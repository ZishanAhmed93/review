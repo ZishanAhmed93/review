{
 "cells": [
  {
   "cell_type": "code",
   "execution_count": 3,
   "metadata": {
    "collapsed": true
   },
   "outputs": [],
   "source": [
    "import review as rv\n",
    "import graphicsFunctions as gf\n",
    "import importlib\n",
    "import numpy as np"
   ]
  },
  {
   "cell_type": "code",
   "execution_count": 15,
   "metadata": {
    "collapsed": false
   },
   "outputs": [
    {
     "data": {
      "text/plain": [
       "<module 'graphicsFunctions' from '/Users/rivka/Desktop/graphics/github/review/graphicsFunctions.py'>"
      ]
     },
     "execution_count": 15,
     "metadata": {},
     "output_type": "execute_result"
    }
   ],
   "source": [
    "importlib.reload(gf)"
   ]
  },
  {
   "cell_type": "code",
   "execution_count": 21,
   "metadata": {
    "collapsed": false
   },
   "outputs": [
    {
     "data": {
      "text/plain": [
       "<module 'review' from '/Users/rivka/Desktop/graphics/github/review/review.py'>"
      ]
     },
     "execution_count": 21,
     "metadata": {},
     "output_type": "execute_result"
    }
   ],
   "source": [
    "importlib.reload(rv)"
   ]
  },
  {
   "cell_type": "code",
   "execution_count": 13,
   "metadata": {
    "collapsed": false
   },
   "outputs": [],
   "source": [
    "# Ray casting question (from generated reviews (1))\n",
    "i, j = 1, 3\n",
    "nx, ny = 724, 344\n",
    "l, r, b, t = -5, -4, 0, 4\n",
    "e = np.array((-2, 3, -1))\n",
    "u = np.array((0.82, 0.41, -0.41))\n",
    "v = np.array((0, -0.71, -0.71))\n",
    "w = np.array((0.56, -0.74, 0.37))"
   ]
  },
  {
   "cell_type": "code",
   "execution_count": 14,
   "metadata": {
    "collapsed": false
   },
   "outputs": [
    {
     "data": {
      "text/plain": [
       "(-4.99792817679558, 0.040697674418604654)"
      ]
     },
     "execution_count": 14,
     "metadata": {},
     "output_type": "execute_result"
    }
   ],
   "source": [
    "uc = l + (r-l)*(i+0.5)/nx\n",
    "vc = b + (t-b)*(j+0.5)/ny\n",
    "uc, vc"
   ]
  },
  {
   "cell_type": "code",
   "execution_count": 18,
   "metadata": {
    "collapsed": false
   },
   "outputs": [
    {
     "name": "stdout",
     "output_type": "stream",
     "text": [
      "[-6.0983011  0.9219541  1.0202552]\n",
      "[-0.56  0.74 -0.37]\n"
     ]
    }
   ],
   "source": [
    "origin = e + uc*u + vc*v\n",
    "direction = -w\n",
    "print(origin)\n",
    "print(direction)"
   ]
  },
  {
   "cell_type": "code",
   "execution_count": null,
   "metadata": {
    "collapsed": true
   },
   "outputs": [],
   "source": [
    "# End ray casting question"
   ]
  }
 ],
 "metadata": {
  "kernelspec": {
   "display_name": "Python 3",
   "language": "python",
   "name": "python3"
  },
  "language_info": {
   "codemirror_mode": {
    "name": "ipython",
    "version": 3
   },
   "file_extension": ".py",
   "mimetype": "text/x-python",
   "name": "python",
   "nbconvert_exporter": "python",
   "pygments_lexer": "ipython3",
   "version": "3.4.2"
  },
  "widgets": {
   "state": {},
   "version": "1.1.2"
  }
 },
 "nbformat": 4,
 "nbformat_minor": 0
}
