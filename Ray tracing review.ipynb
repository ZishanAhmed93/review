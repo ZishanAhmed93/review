{
 "cells": [
  {
   "cell_type": "code",
   "execution_count": 4,
   "metadata": {
    "collapsed": true
   },
   "outputs": [],
   "source": [
    "import review as rv\n",
    "import graphicsFunctions as gf\n",
    "import importlib\n",
    "import numpy as np"
   ]
  },
  {
   "cell_type": "code",
   "execution_count": 5,
   "metadata": {
    "collapsed": false
   },
   "outputs": [
    {
     "data": {
      "text/plain": [
       "<module 'graphicsFunctions' from '/Users/rivka/Desktop/graphics/github/review/graphicsFunctions.py'>"
      ]
     },
     "execution_count": 5,
     "metadata": {},
     "output_type": "execute_result"
    }
   ],
   "source": [
    "importlib.reload(gf)"
   ]
  },
  {
   "cell_type": "code",
   "execution_count": 6,
   "metadata": {
    "collapsed": false
   },
   "outputs": [
    {
     "data": {
      "text/plain": [
       "<module 'review' from '/Users/rivka/Desktop/graphics/github/review/review.py'>"
      ]
     },
     "execution_count": 6,
     "metadata": {},
     "output_type": "execute_result"
    }
   ],
   "source": [
    "importlib.reload(rv)"
   ]
  },
  {
   "cell_type": "code",
   "execution_count": null,
   "metadata": {
    "collapsed": true
   },
   "outputs": [],
   "source": [
    "# Ray casting question (from generated reviews (1)) (orthographic)"
   ]
  },
  {
   "cell_type": "code",
   "execution_count": 7,
   "metadata": {
    "collapsed": false
   },
   "outputs": [],
   "source": [
    "i, j = 1, 3\n",
    "nx, ny = 724, 344\n",
    "l, r, b, t = -5, -4, 0, 4\n",
    "e = np.array((-2, 3, -1))\n",
    "u = np.array((0.82, 0.41, -0.41))\n",
    "v = np.array((0, -0.71, -0.71))\n",
    "w = np.array((0.56, -0.74, 0.37))"
   ]
  },
  {
   "cell_type": "code",
   "execution_count": 8,
   "metadata": {
    "collapsed": false
   },
   "outputs": [
    {
     "data": {
      "text/plain": [
       "(-4.99792817679558, 0.040697674418604654)"
      ]
     },
     "execution_count": 8,
     "metadata": {},
     "output_type": "execute_result"
    }
   ],
   "source": [
    "uc = l + (r-l)*(i+0.5)/nx\n",
    "uc = -5 + (-4--5)*(1.5)/724\n",
    "vc = b + (t-b)*(j+0.5)/ny\n",
    "uc, vc"
   ]
  },
  {
   "cell_type": "code",
   "execution_count": 9,
   "metadata": {
    "collapsed": false
   },
   "outputs": [
    {
     "name": "stdout",
     "output_type": "stream",
     "text": [
      "[-6.0983011  0.9219541  1.0202552]\n",
      "[-0.56  0.74 -0.37]\n"
     ]
    }
   ],
   "source": [
    "origin = e + uc*u + vc*v\n",
    "direction = -w\n",
    "print(origin)\n",
    "print(direction)"
   ]
  },
  {
   "cell_type": "code",
   "execution_count": 10,
   "metadata": {
    "collapsed": true
   },
   "outputs": [],
   "source": [
    "# End ray casting question"
   ]
  },
  {
   "cell_type": "code",
   "execution_count": 11,
   "metadata": {
    "collapsed": true
   },
   "outputs": [],
   "source": [
    "# Polygon intersection question (from generated reviews (2))"
   ]
  },
  {
   "cell_type": "code",
   "execution_count": 12,
   "metadata": {
    "collapsed": false
   },
   "outputs": [
    {
     "data": {
      "text/plain": [
       "'f) Is the intersection point in front of the viewpoint e?'"
      ]
     },
     "execution_count": 12,
     "metadata": {},
     "output_type": "execute_result"
    }
   ],
   "source": [
    "\"Ray R has starting point e=􏰀−5.58 4.41 0.42􏰁 and direction d=􏰀0.8 P has vertices 􏰀−1.38 −0.06 −1.59􏰁􏰀−4.5 5.87 2.0􏰁􏰀−1.38 3.22 b) What is the normal to P?\"\n",
    "\"c) What is the t intersection point of R and P?\"\n",
    "\"d) What is the (x, y, z) intersection point on R at t? e) Is the intersection point inside the polygon?\"\n",
    "\"f) Is the intersection point in front of the viewpoint e?\""
   ]
  },
  {
   "cell_type": "code",
   "execution_count": 67,
   "metadata": {
    "collapsed": true
   },
   "outputs": [],
   "source": [
    "e = np.array((-5.58, 4.41, 0.42))\n",
    "d = np.array((0.8, 0.27, 0.53))\n",
    "p = np.array(((-1.38, -0.06, -1.59), \n",
    "              (-4.5, 5.87, 2.0), \n",
    "              (-1.38, 3.22, 1.69),\n",
    "             (1.12, 5.56, 5.9),\n",
    "             (1.75, 1.19, 2.0)))"
   ]
  },
  {
   "cell_type": "code",
   "execution_count": 68,
   "metadata": {
    "collapsed": false
   },
   "outputs": [
    {
     "data": {
      "text/plain": [
       "array([ 0.46852129,  0.62469505, -0.62469505])"
      ]
     },
     "execution_count": 68,
     "metadata": {},
     "output_type": "execute_result"
    }
   ],
   "source": [
    "# What is the normal to p?\n",
    "n = gf.normalize(np.cross(p[1]-p[0], p[2]-p[1]))\n",
    "n"
   ]
  },
  {
   "cell_type": "code",
   "execution_count": 69,
   "metadata": {
    "collapsed": false
   },
   "outputs": [
    {
     "data": {
      "text/plain": [
       "2.0294117647058822"
      ]
     },
     "execution_count": 69,
     "metadata": {},
     "output_type": "execute_result"
    }
   ],
   "source": [
    "# What is the t intersection point of R and P?\n",
    "t = (p[0]-e).dot(n)/d.dot(n)\n",
    "t"
   ]
  },
  {
   "cell_type": "code",
   "execution_count": 70,
   "metadata": {
    "collapsed": false
   },
   "outputs": [
    {
     "data": {
      "text/plain": [
       "(-3.9564705882352942, 4.9579411764705883, 1.4955882352941177)"
      ]
     },
     "execution_count": 70,
     "metadata": {},
     "output_type": "execute_result"
    }
   ],
   "source": [
    "# What is the (x, y, z) intersection point on R at t?\n",
    "x, y, z = e + t*d\n",
    "x, y, z"
   ]
  },
  {
   "cell_type": "code",
   "execution_count": 60,
   "metadata": {
    "collapsed": false
   },
   "outputs": [
    {
     "data": {
      "text/plain": [
       "False"
      ]
     },
     "execution_count": 60,
     "metadata": {},
     "output_type": "execute_result"
    }
   ],
   "source": [
    "# Is the intersection point inside the polygon?\n",
    "# Is the intersection point in front of the viewpoint e?\n",
    "t > 0"
   ]
  },
  {
   "cell_type": "code",
   "execution_count": 61,
   "metadata": {
    "collapsed": false
   },
   "outputs": [
    {
     "data": {
      "text/plain": [
       "-4.0212141652613829"
      ]
     },
     "execution_count": 61,
     "metadata": {},
     "output_type": "execute_result"
    }
   ],
   "source": [
    "# Ax + By + C = 0\n",
    "# (y0-y1)x + (x1-x0)y + x0y1 - x1y0 = 0\n",
    "# equation of edge 01\n",
    "A = p[0][1]-p[1][1]\n",
    "B = p[1][0]-p[0][0]\n",
    "C = p[0][0]*p[1][1] - p[1][0]*p[0][1]\n",
    "xc = (-B * 4.96 - C)/A\n",
    "xc"
   ]
  },
  {
   "cell_type": "code",
   "execution_count": 62,
   "metadata": {
    "collapsed": false
   },
   "outputs": [
    {
     "data": {
      "text/plain": [
       "False"
      ]
     },
     "execution_count": 62,
     "metadata": {},
     "output_type": "execute_result"
    }
   ],
   "source": [
    "xc > x"
   ]
  },
  {
   "cell_type": "code",
   "execution_count": 63,
   "metadata": {
    "collapsed": false
   },
   "outputs": [
    {
     "data": {
      "text/plain": [
       "-3.4261798002219757"
      ]
     },
     "execution_count": 63,
     "metadata": {},
     "output_type": "execute_result"
    }
   ],
   "source": [
    "xc = gf.xIntersect(p[1], p[2], y)\n",
    "xc"
   ]
  },
  {
   "cell_type": "code",
   "execution_count": 64,
   "metadata": {
    "collapsed": false
   },
   "outputs": [
    {
     "data": {
      "text/plain": [
       "True"
      ]
     },
     "execution_count": 64,
     "metadata": {},
     "output_type": "execute_result"
    }
   ],
   "source": [
    "xc > x"
   ]
  },
  {
   "cell_type": "code",
   "execution_count": 29,
   "metadata": {
    "collapsed": true
   },
   "outputs": [],
   "source": [
    "# End polygon intersection question"
   ]
  },
  {
   "cell_type": "code",
   "execution_count": 32,
   "metadata": {
    "collapsed": false
   },
   "outputs": [],
   "source": [
    "# Barycentric coordinates question (3)\n",
    "t = np.array(((-0.47, 5.71, -6.23),\n",
    "            (-2.33, 3.11, -5.49),\n",
    "            (-3.63, 1.63, -4.74)))\n",
    "e = np.array((-4.52, 2.35, 1.31))\n",
    "d = np.array((-0.51, 0.85, -0.17))"
   ]
  },
  {
   "cell_type": "code",
   "execution_count": 37,
   "metadata": {
    "collapsed": false
   },
   "outputs": [
    {
     "name": "stdout",
     "output_type": "stream",
     "text": [
      "t: 2.99\n"
     ]
    }
   ],
   "source": [
    "# What are the beta and gamma barycentric coordinates and the t distance along the ray of the intersection between R and the plane defined by T?\n",
    "n = gf.normalize(np.cross(t[1]-t[0], t[2]-t[1]))\n",
    "tp = (t[0]-e).dot(n)/d.dot(n)\n",
    "print(\"t: %.2f\" % tp)"
   ]
  },
  {
   "cell_type": "code",
   "execution_count": 39,
   "metadata": {
    "collapsed": false
   },
   "outputs": [
    {
     "data": {
      "text/plain": [
       "array([-6.04449016,  4.89081694,  0.80183661])"
      ]
     },
     "execution_count": 39,
     "metadata": {},
     "output_type": "execute_result"
    }
   ],
   "source": [
    "px = e + tp*d\n",
    "px"
   ]
  },
  {
   "cell_type": "code",
   "execution_count": 44,
   "metadata": {
    "collapsed": false
   },
   "outputs": [
    {
     "data": {
      "text/plain": [
       "(-32.135365717059571, 20.67919949221513)"
      ]
     },
     "execution_count": 44,
     "metadata": {},
     "output_type": "execute_result"
    }
   ],
   "source": [
    "# (y0-y1)x + (x1-x0)y + x0y1 - x1y0 -- Given \n",
    "c, f01 = gf.lineEq(t[0], t[1])\n",
    "gamma = f01(px)/f01(t[2])\n",
    "c, f02 = gf.lineEq(t[0], t[2])\n",
    "beta = f02(px)/f02(t[1])\n",
    "(beta, gamma)"
   ]
  },
  {
   "cell_type": "code",
   "execution_count": 45,
   "metadata": {
    "collapsed": false
   },
   "outputs": [
    {
     "data": {
      "text/plain": [
       "False"
      ]
     },
     "execution_count": 45,
     "metadata": {},
     "output_type": "execute_result"
    }
   ],
   "source": [
    "# Is the intersection point inside the triangle?\n",
    "beta > 0 and gamma > 0 and 1-beta-gamma > 0"
   ]
  },
  {
   "cell_type": "code",
   "execution_count": 47,
   "metadata": {
    "collapsed": false
   },
   "outputs": [
    {
     "data": {
      "text/plain": [
       "True"
      ]
     },
     "execution_count": 47,
     "metadata": {},
     "output_type": "execute_result"
    }
   ],
   "source": [
    "# Is the intersection point in front of the viewpoint e?\n",
    "tp > 0"
   ]
  },
  {
   "cell_type": "code",
   "execution_count": 48,
   "metadata": {
    "collapsed": true
   },
   "outputs": [],
   "source": [
    "# End barycentric question"
   ]
  },
  {
   "cell_type": "code",
   "execution_count": 54,
   "metadata": {
    "collapsed": false
   },
   "outputs": [],
   "source": [
    "# Ray casting question (perspective) (12)\n",
    "i, j = 4, 4\n",
    "nx, ny = 386, 706\n",
    "l, r, b, t = 1, 3, -1, 0\n",
    "e = np.array((3, 1, -2))\n",
    "ux = np.array((-0.44, -0.22, 0.87))\n",
    "vx = np.array((-0.58, -0.58, 0.58))\n",
    "wx = np.array((-0.85, -0.17, -0.51))"
   ]
  },
  {
   "cell_type": "code",
   "execution_count": 55,
   "metadata": {
    "collapsed": false
   },
   "outputs": [
    {
     "data": {
      "text/plain": [
       "(1.0233160621761659, -0.9936260623229461)"
      ]
     },
     "execution_count": 55,
     "metadata": {},
     "output_type": "execute_result"
    }
   ],
   "source": [
    "u = l + (r-l) * (i+0.5)/nx\n",
    "v = b + (t-b) * (j+0.5)/ny\n",
    "u, v"
   ]
  },
  {
   "cell_type": "code",
   "execution_count": 52,
   "metadata": {
    "collapsed": false
   },
   "outputs": [
    {
     "data": {
      "text/plain": [
       "array([ 3,  1, -2])"
      ]
     },
     "execution_count": 52,
     "metadata": {},
     "output_type": "execute_result"
    }
   ],
   "source": [
    "origin = e\n",
    "origin"
   ]
  },
  {
   "cell_type": "code",
   "execution_count": 57,
   "metadata": {
    "collapsed": true
   },
   "outputs": [],
   "source": [
    "ip = 3       # error: not given in question"
   ]
  },
  {
   "cell_type": "code",
   "execution_count": 59,
   "metadata": {
    "collapsed": false
   },
   "outputs": [
    {
     "data": {
      "text/plain": [
       "array([ 2.67604405,  0.86117358,  1.84398186])"
      ]
     },
     "execution_count": 59,
     "metadata": {},
     "output_type": "execute_result"
    }
   ],
   "source": [
    "d = ip*-wx + u*ux + v*vx \n",
    "d"
   ]
  },
  {
   "cell_type": "code",
   "execution_count": null,
   "metadata": {
    "collapsed": true
   },
   "outputs": [],
   "source": []
  }
 ],
 "metadata": {
  "kernelspec": {
   "display_name": "Python 3",
   "language": "python",
   "name": "python3"
  },
  "language_info": {
   "codemirror_mode": {
    "name": "ipython",
    "version": 3
   },
   "file_extension": ".py",
   "mimetype": "text/x-python",
   "name": "python",
   "nbconvert_exporter": "python",
   "pygments_lexer": "ipython3",
   "version": "3.4.2"
  },
  "widgets": {
   "state": {},
   "version": "1.1.2"
  }
 },
 "nbformat": 4,
 "nbformat_minor": 0
}
