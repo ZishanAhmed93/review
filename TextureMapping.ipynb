{
 "cells": [
  {
   "cell_type": "code",
   "execution_count": 2,
   "metadata": {
    "collapsed": true
   },
   "outputs": [],
   "source": [
    "import review as rv\n",
    "import graphicsFunctions as gf\n",
    "import numpy as np\n",
    "import importlib"
   ]
  },
  {
   "cell_type": "code",
   "execution_count": 3,
   "metadata": {
    "collapsed": false
   },
   "outputs": [
    {
     "data": {
      "text/plain": [
       "<module 'review' from '/Users/rivka/Desktop/graphics/github/review/review.py'>"
      ]
     },
     "execution_count": 3,
     "metadata": {},
     "output_type": "execute_result"
    }
   ],
   "source": [
    "importlib.reload(rv)"
   ]
  },
  {
   "cell_type": "code",
   "execution_count": 5,
   "metadata": {
    "collapsed": false
   },
   "outputs": [
    {
     "data": {
      "text/plain": [
       "<module 'review' from '/Users/rivka/Desktop/graphics/github/review/review.py'>"
      ]
     },
     "execution_count": 5,
     "metadata": {},
     "output_type": "execute_result"
    }
   ],
   "source": [
    "importlib.reload(rv)"
   ]
  },
  {
   "cell_type": "code",
   "execution_count": 8,
   "metadata": {
    "collapsed": false
   },
   "outputs": [
    {
     "data": {
      "text/plain": [
       "array([ 771.,  361.])"
      ]
     },
     "execution_count": 8,
     "metadata": {},
     "output_type": "execute_result"
    }
   ],
   "source": [
    "# nearest neighbor question (3)\n",
    "u, v = 0.59, 0.19\n",
    "nx, ny = 1307, 1898\n",
    "np.round((u*nx, v*ny))"
   ]
  },
  {
   "cell_type": "code",
   "execution_count": 23,
   "metadata": {
    "collapsed": false
   },
   "outputs": [
    {
     "name": "stdout",
     "output_type": "stream",
     "text": [
      "901.12, 1290.24\n",
      "0.12, 0.24\n",
      "2192.36\n"
     ]
    }
   ],
   "source": [
    "# bilinear interpolation question (7)\n",
    "u, v = 0.88, 0.63\n",
    "nx, ny = 1024, 2048\n",
    "f = lambda s,t: s+t+1\n",
    "\n",
    "ps, pt = u*nx, v*ny; \n",
    "print(\"%.2f, %.2f\" % (ps, pt))\n",
    "\n",
    "ds = ps - np.floor(ps)  # get the decimal\n",
    "dt = pt - np.floor(pt)\n",
    "print(\"%.2f, %.2f\" % (ds, dt))\n",
    "\n",
    "res = (1-ds)*(1-dt)*f(np.floor(ps), np.floor(pt)) \\\n",
    "    + (1-ds)*(dt)*f(np.floor(ps), np.ceil(pt)) \\\n",
    "    + (ds)*(1-dt)*f(np.ceil(ps), np.floor(pt)) \\\n",
    "    + (ds)*(dt)*f(np.ceil(ps), np.ceil(pt))\n",
    "print(\"%.2f\" % res)"
   ]
  },
  {
   "cell_type": "code",
   "execution_count": 27,
   "metadata": {
    "collapsed": false
   },
   "outputs": [
    {
     "name": "stdout",
     "output_type": "stream",
     "text": [
      "0.34\n",
      "magnification\n"
     ]
    }
   ],
   "source": [
    "# magnification question (10)\n",
    "tr = 35\n",
    "ir = 102\n",
    "print(\"%.2f\" % (tr/ir))\n",
    "\n",
    "if tr/ir < 1:\n",
    "    print(\"magnification\")\n",
    "else:\n",
    "    print(\"minification\")"
   ]
  },
  {
   "cell_type": "code",
   "execution_count": 37,
   "metadata": {
    "collapsed": false
   },
   "outputs": [
    {
     "name": "stdout",
     "output_type": "stream",
     "text": [
      "6.82\n",
      "levels of detail: 64, 128\n",
      "113 is 0.77 of the way between 64 and 128\n",
      "The texture result from 64 will have a weight of 0.23, and the texture result from 128 will have a weight of 0.77\n"
     ]
    }
   ],
   "source": [
    "# trilinear interpolation question (26)\n",
    "ir = 113\n",
    "d = np.log2(ir)\n",
    "print(\"%.2f\" % d)\n",
    "\n",
    "l, h = 2**np.floor(d), 2**np.ceil(d)\n",
    "print(\"levels of detail: %d, %d\" % (l, h))\n",
    "\n",
    "f = (ir-l)/(h-l)\n",
    "print(\"%d is %.2f of the way between %d and %d\" % (ir, f, l, h))\n",
    "\n",
    "print(\"The texture result from %d will have a weight of %.2f, and the texture result from %d will have a weight of %.2f\" % (l, 1-f, h, f))"
   ]
  }
 ],
 "metadata": {
  "kernelspec": {
   "display_name": "Python 3",
   "language": "python",
   "name": "python3"
  },
  "language_info": {
   "codemirror_mode": {
    "name": "ipython",
    "version": 3
   },
   "file_extension": ".py",
   "mimetype": "text/x-python",
   "name": "python",
   "nbconvert_exporter": "python",
   "pygments_lexer": "ipython3",
   "version": "3.4.2"
  },
  "widgets": {
   "state": {},
   "version": "1.1.2"
  }
 },
 "nbformat": 4,
 "nbformat_minor": 0
}
